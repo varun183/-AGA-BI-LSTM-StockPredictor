{
 "cells": [
  {
   "cell_type": "code",
   "execution_count": 8,
   "id": "e252efea",
   "metadata": {},
   "outputs": [
    {
     "name": "stdout",
     "output_type": "stream",
     "text": [
      "                    Importance\n",
      "Prev Close            0.777544\n",
      "High                  0.128547\n",
      "Low                   0.053282\n",
      "VWAP                  0.023004\n",
      "Close                 0.013821\n",
      "Last                  0.003766\n",
      "%Deliverble           0.000012\n",
      "Deliverable Volume    0.000007\n",
      "Volume                0.000006\n",
      "Turnover              0.000006\n",
      "Trades                0.000005\n"
     ]
    }
   ],
   "source": [
    "import pandas as pd\n",
    "from sklearn.ensemble import RandomForestRegressor\n",
    "\n",
    "# Read the CSV file into a DataFrame\n",
    "df = pd.read_csv(r\"D:\\MCA\\RBL\\Final paper\\new RBL\\MY paper\\Data\\BRITANNIA.csv\", parse_dates=['Date'], index_col='Date')\n",
    "\n",
    "# Select the columns for feature importance analysis\n",
    "selected_columns = [ 'Prev Close', 'Open', 'High', 'Low', 'Last', 'Close', 'VWAP', 'Volume', 'Turnover', 'Trades', 'Deliverable Volume', '%Deliverble']\n",
    "\n",
    "# Create a new DataFrame with the selected columns\n",
    "selected_df = df[selected_columns]\n",
    "\n",
    "# Handling missing values\n",
    "selected_df = selected_df.fillna(0)  # Fill missing values with 0 or use other imputation methods\n",
    "\n",
    "# Separate the target variable\n",
    "target = selected_df['Open']\n",
    "features = selected_df.drop('Open', axis=1)\n",
    "\n",
    "# Initialize the Random Forest Regressor\n",
    "rf = RandomForestRegressor()\n",
    "\n",
    "# Fit the model\n",
    "rf.fit(features, target)\n",
    "\n",
    "# Get feature importances\n",
    "feature_importances = pd.DataFrame(rf.feature_importances_, index=features.columns, columns=['Importance'])\n",
    "\n",
    "# Sort the features by importance\n",
    "sorted_features = feature_importances.sort_values('Importance', ascending=False)\n",
    "\n",
    "# Display the sorted feature importances\n",
    "print(sorted_features)\n"
   ]
  },
  {
   "cell_type": "code",
   "execution_count": 9,
   "id": "3b0e56c2",
   "metadata": {},
   "outputs": [
    {
     "name": "stdout",
     "output_type": "stream",
     "text": [
      "                    Importance\n",
      "High                  0.457477\n",
      "Low                   0.258781\n",
      "Prev Close            0.183920\n",
      "VWAP                  0.080285\n",
      "Last                  0.010322\n",
      "Close                 0.008924\n",
      "Deliverable Volume    0.000171\n",
      "%Deliverble           0.000091\n",
      "Volume                0.000012\n",
      "Turnover              0.000012\n",
      "Trades                0.000004\n"
     ]
    }
   ],
   "source": [
    "import pandas as pd\n",
    "from sklearn.ensemble import RandomForestRegressor\n",
    "\n",
    "# Read the CSV file into a DataFrame\n",
    "df = pd.read_csv(r\"D:\\MCA\\RBL\\Final paper\\new RBL\\MY paper\\Data\\ITC.csv\", parse_dates=['Date'], index_col='Date')\n",
    "\n",
    "# Select the columns for feature importance analysis\n",
    "selected_columns = [ 'Prev Close', 'Open', 'High', 'Low', 'Last', 'Close', 'VWAP', 'Volume', 'Turnover', 'Trades', 'Deliverable Volume', '%Deliverble']\n",
    "\n",
    "# Create a new DataFrame with the selected columns\n",
    "selected_df = df[selected_columns]\n",
    "\n",
    "# Handling missing values\n",
    "selected_df = selected_df.fillna(0)  # Fill missing values with 0 or use other imputation methods\n",
    "\n",
    "# Separate the target variable\n",
    "target = selected_df['Open']\n",
    "features = selected_df.drop('Open', axis=1)\n",
    "\n",
    "# Initialize the Random Forest Regressor\n",
    "rf = RandomForestRegressor()\n",
    "\n",
    "# Fit the model\n",
    "rf.fit(features, target)\n",
    "\n",
    "# Get feature importances\n",
    "feature_importances = pd.DataFrame(rf.feature_importances_, index=features.columns, columns=['Importance'])\n",
    "\n",
    "# Sort the features by importance\n",
    "sorted_features = feature_importances.sort_values('Importance', ascending=False)\n",
    "\n",
    "# Display the sorted feature importances\n",
    "print(sorted_features)"
   ]
  },
  {
   "cell_type": "code",
   "execution_count": 10,
   "id": "87351a48",
   "metadata": {},
   "outputs": [
    {
     "name": "stdout",
     "output_type": "stream",
     "text": [
      "                    Importance\n",
      "Low                   0.660267\n",
      "Prev Close            0.221586\n",
      "High                  0.069762\n",
      "VWAP                  0.047699\n",
      "Last                  0.000324\n",
      "Close                 0.000285\n",
      "%Deliverble           0.000024\n",
      "Deliverable Volume    0.000015\n",
      "Volume                0.000014\n",
      "Turnover              0.000014\n",
      "Trades                0.000009\n"
     ]
    }
   ],
   "source": [
    "import pandas as pd\n",
    "from sklearn.ensemble import RandomForestRegressor\n",
    "\n",
    "# Read the CSV file into a DataFrame\n",
    "df = pd.read_csv(r\"D:\\MCA\\RBL\\Final paper\\new RBL\\MY paper\\Data\\ICICIBANK.csv\", parse_dates=['Date'], index_col='Date')\n",
    "\n",
    "# Select the columns for feature importance analysis\n",
    "selected_columns = [ 'Prev Close', 'Open', 'High', 'Low', 'Last', 'Close', 'VWAP', 'Volume', 'Turnover', 'Trades', 'Deliverable Volume', '%Deliverble']\n",
    "\n",
    "# Create a new DataFrame with the selected columns\n",
    "selected_df = df[selected_columns]\n",
    "\n",
    "# Handling missing values\n",
    "selected_df = selected_df.fillna(0)  # Fill missing values with 0 or use other imputation methods\n",
    "\n",
    "# Separate the target variable\n",
    "target = selected_df['Open']\n",
    "features = selected_df.drop('Open', axis=1)\n",
    "\n",
    "# Initialize the Random Forest Regressor\n",
    "rf = RandomForestRegressor()\n",
    "\n",
    "# Fit the model\n",
    "rf.fit(features, target)\n",
    "\n",
    "# Get feature importances\n",
    "feature_importances = pd.DataFrame(rf.feature_importances_, index=features.columns, columns=['Importance'])\n",
    "\n",
    "# Sort the features by importance\n",
    "sorted_features = feature_importances.sort_values('Importance', ascending=False)\n",
    "\n",
    "# Display the sorted feature importances\n",
    "print(sorted_features)"
   ]
  },
  {
   "cell_type": "code",
   "execution_count": null,
   "id": "300c4e12",
   "metadata": {},
   "outputs": [],
   "source": []
  }
 ],
 "metadata": {
  "kernelspec": {
   "display_name": "Python 3 (ipykernel)",
   "language": "python",
   "name": "python3"
  },
  "language_info": {
   "codemirror_mode": {
    "name": "ipython",
    "version": 3
   },
   "file_extension": ".py",
   "mimetype": "text/x-python",
   "name": "python",
   "nbconvert_exporter": "python",
   "pygments_lexer": "ipython3",
   "version": "3.10.9"
  }
 },
 "nbformat": 4,
 "nbformat_minor": 5
}
